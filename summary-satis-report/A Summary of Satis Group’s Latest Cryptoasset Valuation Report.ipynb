{
 "cells": [
  {
   "cell_type": "code",
   "execution_count": null,
   "metadata": {},
   "outputs": [],
   "source": [
    "In this article we review the main ideas presented in the last cryptoassets valuation Satis Group's article published by Bloomberg. Satis Group is an ICO advisory firm which has helped model one of the first bitcoin valuation in 2014. According to their report, the cryptoassets ecosystem forecast is promising. Bitcoin and Monero cryptocurrencies are both expected to grow, as are exchange utility tokens and tokens for loans and lending. The article uses three valuation frameworks: the top-down method, the bottom-up method, and some others relative methods. See our article A Review On Cryptoasset Valuation Frameworks for a review of these frameworks.\n",
    "\n",
    "Top Down Method\n",
    "This method uses the quantity theory of money to assess the value of cryptoassets (see our analysis of Stellar lumens tokens with this approach). It analyzes the value captured through crypto market adoption, share of that adoption by individual sectors, and velocity of the underlying use case. It mainly applies with utility tokens and currencies, assuming that their value is directly correlated with the size of the use case and economy they support. Based on this framework, the following figure estimates the cryptoasset market capitalization over time:\n",
    "\n",
    "![fig](figs/fig1.png)\n",
    "Figure 1: Estimated Cryptoasset Market Capitalization Over Time\n",
    "In the following table, Satis Group estimates the market adoption of cryptoassets in different areas:\n",
    "\n",
    "![fig](figs/fig2.png)\n",
    "Figure 2: Estimated Penetration of Cryptoassets, as Means of Exchange for Each Addressable Market\n",
    "The following figure shows a dramatic increase in the offshore deposits within the cryptoassets market in the next 1 - 2 years as custody solutions come online. In five years, offshore deposits could represent the 90% of the total crypto market capitalization.\n",
    "\n",
    "![fig](figs/fig3.png)\n",
    "Figure 3: Cryptoasset Market Penetration of TAM by USE Case (as % of Total Cryptoasset Market Capitalization)\n",
    "Among store of value assets, the privacy sector is expected to grow the most, lead by Monero and ZCash.\n",
    "\n",
    "Satis Group analysis of platform networks suggests that Ethereum will lose share, but it will continue to be used because there is an established community and a lot of dependency generated around the platform. Satis Group do not forsee any competitor growing as much as Ethereum has grown, during its ecosystem and value expansion over the past two years.\n",
    "In the following table, Satis Group estimates the value of the top ten cryptoassets in the next few years:\n",
    "\n",
    "![fig](figs/fig4.png)\n",
    "Figure 4: Estimated Value of Top 10 Cryptoassets\n",
    "Satis Group believes the largest opportunity for cryptoassets will be in store of value markets which explains the substantial upside they forecast for Monero and Bitcoin.\n",
    "\n",
    "In addition, Satis details several factors that favor the growth of BTC in particular: \"1) increasing liquidity and purchasing avenues, 2) increasing brand recognition, 3) its position as the default base - pair within the crypto markets , 4) declining relative volatility, 5) relative lack of attack vectors, 6) network capacity alleviation through the maturity of layer - 2 solutions, and 7) an increasingly high attack and overthrow cost.\"\n",
    "\n",
    "Other currency networks which are expected to grow include \"networks that have cultivated relatively organic growth and community (such as LTC)\" and \"cryptoassets with subtle (...) differences in governance and technical reputation (such as DCR).\"\n",
    "\n",
    "On the other hand, Satis sees \"meaningful  downside from networks that have inherited brand recognition and potentially short - lived adoption during hiccups from their fork - parent (such as BCH), and very little value in networks that are misleadingly marketed and not even required for use within their own network (such as XRP)\".\n",
    "\n",
    "Utility tokens will gain in market usability, but not in token price.  Although utility cryptoassets will further penetrate larger markets (such as IT spending, gambling, and gaming), the high velocity of these applications combined with a lack of value- retaining construct will result in lower value. Low velocity utilities like loan tokens (SALT, LEND) could increase in value due to its low velocity. (See our previous article: Cryptocurrency Backed Lending Platforms for a comparison of these services).\n",
    "\n",
    "Relative Valuation Methods\n",
    "Different metrics can be applied to similar cryptoassets to compare performance. These methods includes comparative valuations, relative to cryptoassets with similar qualities in various sectors. For example, the exchange multiple, calculated as the total token market capitalization over the exchange daily volume is useful to compare exchange tokens:\n",
    "\n",
    "![fig](figs/fig5.png)\n",
    "Figure 5: Exchange Multiples\n",
    "This exchange multiple is then used to predict token price:\n",
    "\n",
    "![fig](figs/fig6.png)\n",
    "Figure 6: Exchange Multiples, Implied Values\n",
    "\n",
    "Bottom-Up Methods\n",
    "Bottom-up methods are traditional methods which calculate the net present value of the future stream of returns. They can be used for cryptoassets which generate yield, wether it be trough the substantial return of coins to validators through master nodes and staking, or through discounts for trading with exchange tokens. We calculate the value of a token based on different projections of annualized growth of economic activity and discount rates (WACC) using a discounted cash flow  analysis. In the table below, Satis analyzes the Binance BNB token. BNB net present value is calculated for different scenarios. All forecasted prices are above the price at the time of writing.\n",
    "\n",
    "![fig](figs/fig7.png)\n",
    "Figure 7: Sensitivity of the BNB price to annualized growth of Binance trading volume and discounted rates.\n",
    "If you liked this article, you might also like:\n",
    "Cryptocurrency Backed Lending Platforms\n",
    "A Review Of Cryptoasset Valuation Frameworks\n",
    "Analizing Blockchain Networks with Metcalfe's and Odlyzko's laws\n",
    "Disclaimer: CoinFabrik does not provide financial advice. This material has been prepared for educational purposes only, and is not intended to provide, and should not be relied on for, financial advice. Consult your own financial advisors before engaging in any investment."
   ]
  }
 ],
 "metadata": {
  "kernelspec": {
   "display_name": "Python 3",
   "language": "python",
   "name": "python3"
  },
  "language_info": {
   "codemirror_mode": {
    "name": "ipython",
    "version": 3
   },
   "file_extension": ".py",
   "mimetype": "text/x-python",
   "name": "python",
   "nbconvert_exporter": "python",
   "pygments_lexer": "ipython3",
   "version": "3.5.2"
  }
 },
 "nbformat": 4,
 "nbformat_minor": 2
}
