{
 "cells": [
  {
   "cell_type": "markdown",
   "metadata": {},
   "source": [
    "# What i' ve learned from my first arbitrage experiences"
   ]
  },
  {
   "cell_type": "markdown",
   "metadata": {},
   "source": [
    "A lot of posts have been coming up talking about how traders get rich from arbitrage opportunities in the crypto market. I was trying to arbitrage for months, but I could never get a profitable strategy, so I tell you the common problems I found there, and they might be helpful for those who are starting with this, so you don't have to travel the same painful path. Summarizing, what I found:\n",
    "* Most of the arbitrage opportunities disspear after considering exchanges fees and commissions\n",
    "* Most of arbitrage opportunities appear between exchanges with maintenance wallets, what makes deposits or withdrawls imposibles.\n",
    "* Transaction times between exchanges cause arbitrage to become a lottery due to market volatility.\n",
    "\n",
    "If you want to cotinue reading, you are going to find how to build an arbitrage monitor from scrath with python and some useful experiences."
   ]
  },
  {
   "cell_type": "markdown",
   "metadata": {},
   "source": [
    "## ¿What is an arbitrage?"
   ]
  },
  {
   "cell_type": "markdown",
   "metadata": {},
   "source": [
    "[Arbitrage](https://en.wikipedia.org/wiki/Arbitrage) is the practice of taking advantage of a price difference between two or more markets. For example, if you find that stocks from some company are traded at lower price in some market that in others, then you can buy that stocks at that market, and sell them in other markets, at higher price, taking a profit from the price difference. Simple. Unfortunatly, too simply.\n",
    "\n",
    "That simplicity gives many traders the opportunity to take advantage of the situation, and this way, increasing the demand of the stocks in markets where prices are lower and the same time increasing the offer in markets with higher prices. So,  unintentionally, they stabilize price inequality, decreasing the opportunities. And, more traders on a market, more *efficiciently* they work to stabilize the prices. In fact, finance models assume an [arbitrage-free](https://www.glynholton.com/notes/arbitrage-free-pricing/) condition, which implies that, in efficient markets, there are not arbitrage opportunities right there waiting for you.\n",
    "\n",
    "But, let's be honest, cryto assets markets are realtively green. There are constantly appearing new exchanges with low trading volumnes. This market is far from being efficient."
   ]
  },
  {
   "cell_type": "markdown",
   "metadata": {},
   "source": [
    "## How to find an arbitrage opportunity in the crypto market?"
   ]
  },
  {
   "cell_type": "markdown",
   "metadata": {},
   "source": [
    "There are so many tools to find an arbitrage opportunity.\n",
    "The simplest, take a look at websites that monitor this opportunities (for example, [this](https://cryptocoincharts.info/arbitrage)).\n",
    "The problem with this websites is that you can't control which exchanges and which assets you monitor. And, in practice, this is definitly something you need to do, because to take an advantage of an opportunity, you have to have your investment assets ni the right moment, in the rigth exchange.\n",
    "\n",
    "So, let's build from scratch our own monitor that looks to the opportunities we really care. To do this, let's use the [ccxt](https://github.com/ccxt/ccxt) python library which allows us to connect to several exchanges (currently, 115) and trade cryptos in an standarized way (ccxt developers, you have really done a great job). We are going to use this library to request ask/bid prices for differents assets in differents exchanges, compare them and think about an arbitrage strategy.\n",
    "\n",
    "Then let's get started. First at all, let's import the libraries:"
   ]
  },
  {
   "cell_type": "code",
   "execution_count": 1,
   "metadata": {},
   "outputs": [],
   "source": [
    "import numpy as np\n",
    "import ccxt"
   ]
  },
  {
   "cell_type": "markdown",
   "metadata": {},
   "source": [
    "We are going to use Numpy later to make computations. Now, let's define some exchanges:"
   ]
  },
  {
   "cell_type": "code",
   "execution_count": 99,
   "metadata": {},
   "outputs": [],
   "source": [
    "exchanges = [\"allcoin\", \"binance\", \"bitbay\", \"bitcoincoid\", \"bitfinex\", \n",
    "\"bitflyer\", \"bitlish\", \"bitso\", \"bitstamp\", \"bittrex\", \"bleutrade\", \"btcmarkets\", \"btcturk\", \"bxinth\", \n",
    "\"cex\", \"cryptopia\", \"dsx\", \"exmo\", \"gatecoin\", \"gdax\", \"gemini\", \"hitbtc\",\n",
    "\"huobipro\", \"kraken\", \"kucoin\", \"lakebtc\", \"livecoin\", \"mixcoins\", \"okex\", \"poloniex\", \"qryptos\",\n",
    "\"quadrigacx\", \"southxchange\", \"therock\", \"tidex\", \"wex\", \"yobit\", \"zaif\", \"zb\"]\n",
    "\n",
    "exchanges = [\"Allcoin\", \"Binance\", \"Bitfinex\", \"Bittrex\", \"Cex\", \"Cryptopia\", \"Exmo\", \"Gatecoin\", \"Hitbtc\",\n",
    "\"Huobipro\", \"Kraken\", \"Kucoin\", \"Livecoin\", \"Okex\", \"Poloniex\", \"Qryptos\", \"Quadrigacx\", \"Southxchange\", \"Yobit\"]"
   ]
  },
  {
   "cell_type": "markdown",
   "metadata": {},
   "source": [
    "With *exchanges* defined, now we can intialize the correspondant clients to request data to them. You can define them like this:"
   ]
  },
  {
   "cell_type": "code",
   "execution_count": 127,
   "metadata": {},
   "outputs": [],
   "source": [
    "allcoin = ccxt.allcoin()"
   ]
  },
  {
   "cell_type": "markdown",
   "metadata": {},
   "source": [
    "Or better, you can try this and avoid the need to write a lot:"
   ]
  },
  {
   "cell_type": "code",
   "execution_count": 101,
   "metadata": {},
   "outputs": [],
   "source": [
    "clients = []\n",
    "for exchange in exchanges:\n",
    "    exec(\"client=ccxt.%s()\"%(exchange.lower()))\n",
    "    clients.append(client)"
   ]
  },
  {
   "cell_type": "markdown",
   "metadata": {},
   "source": [
    "Now, let's define some pairs of interest:"
   ]
  },
  {
   "cell_type": "code",
   "execution_count": 24,
   "metadata": {},
   "outputs": [],
   "source": [
    "symbols = [\"ADA/BTC\", \"BCH/BTC\", \"BTG/BTC\", \"BTS/BTC\", \"CLAIM/BTC\", \"DASH/BTC\", \"DOGE/BTC\", \"EDO/BTC\", \"EOS/BTC\",\n",
    "           \"ETC/BTC\",\"ETH/BTC\", \"FCT/BTC\", \"ICX/BTC\", \"IOTA/BTC\", \"LSK/BTC\", \"LTC/BTC\", \"MAID/BTC\", \"NEO/BTC\",\n",
    "           \"OMG/BTC\", \"QTUM/BTC\", \"STR/BTC\", \"TRX/BTC\",\"VEN/BTC\", \"XEM/BTC\", \"XLM/BTC\", \"XMR/BTC\", \"XRP/BTC\", \"ZEC/BTC\"]"
   ]
  },
  {
   "cell_type": "markdown",
   "metadata": {},
   "source": [
    "Then, let me define some helpful variables:"
   ]
  },
  {
   "cell_type": "code",
   "execution_count": 25,
   "metadata": {},
   "outputs": [],
   "source": [
    "ask = np.zeros((len(symbols), len(clients)))\n",
    "bid = np.zeros((len(symbols), len(clients)))"
   ]
  },
  {
   "cell_type": "markdown",
   "metadata": {},
   "source": [
    "Finally, request the data to the clients. We are going to use the *fetch_order_book* function in each client, wich returns the full orderbook, but we are going to only take care about the *bid* and *ask* values at the top (this is a first approach, we could explore better options computing a mean value for our trading investment).\n",
    "\n",
    "Assuming you have not modified the *exchanges* list, this lines could take a while. To speed up, go back and define less clients."
   ]
  },
  {
   "cell_type": "code",
   "execution_count": 26,
   "metadata": {},
   "outputs": [],
   "source": [
    "for row, symbol in enumerate(symbols):\n",
    "    for col, client in enumerate(clients):\n",
    "        \n",
    "        try:\n",
    "            book = client.fetch_order_book(symbol)\n",
    "            ask[row, col] = book['asks'][0][0]\n",
    "            bid[row, col] = book['bids'][0][0]\n",
    "        except:\n",
    "            pass"
   ]
  },
  {
   "cell_type": "markdown",
   "metadata": {},
   "source": [
    "I've defined the request inside a *try* block because some symbols are not traded in all exchanges, and bad requests raise errors, which are not helpfuls to our task. Another source of error could be rate request limits, which we are just passing now. We can also implement a delay to decrease the request rate to each exchange. That delay should be adjusted depending on wich exchanges you are connecting, because each one has their own limits. To deep in this you can check each exchange documentation later. I've also defined the ask and bid savings inside the *try* block because some requests could return empty arrays, and we are trying to avoid deal with this now.\n",
    "\n",
    "In an efficient approach, we don't want to wait that the hole loop finishes to look for an arbitrage opportunity, but for now, just leave it like this and continue exploring the data to understand what could be our best options.\n",
    "\n",
    "Having defined the bid and ask values for each coin in each exchange, now let's define our strategy and compute the profits and losses. Our strategy to trade coin C between exchanges E1 and E2 implies to buy C at E1, transfer C coins to E2, and sell it there. We want to make all this steps as quicly as we can because we don't want that somebody takes advantage on us, so we are going to execute each trade *inmediatly*, where *inmediatly* means, buy at the lowest price somebody is willing to sell, (i.e., lowest ask value), and sell at the highest price somebody is willing to buy, (i.e., highest bid value). So, let's define the steps:\n",
    "\n",
    "* At E1, set a buy market order for C\n",
    "* Transfer the C coins to E2.\n",
    "* At E2, set a sell market order for C\n",
    "* Compute the BTC profit of your investment as:\n",
    "\n",
    "    profit = (bid_E2 / ask_E1 - 1) x 100 %\n",
    "\n",
    "In practice, you also should pay for fees in exchanges. So let me define a *fee* variable to compute more real profits. We can define an array or a dict of *fees* for each exchange, but for the sake of simplicity let me define  a general (conservative) percentual fee:"
   ]
  },
  {
   "cell_type": "code",
   "execution_count": 128,
   "metadata": {},
   "outputs": [],
   "source": [
    "fee = 0.25"
   ]
  },
  {
   "cell_type": "markdown",
   "metadata": {},
   "source": [
    "Let's compute this, and count how many profitable opportunities we found:"
   ]
  },
  {
   "cell_type": "code",
   "execution_count": 120,
   "metadata": {},
   "outputs": [
    {
     "name": "stdout",
     "output_type": "stream",
     "text": [
      "Amount of profitable opportunities 108\n"
     ]
    }
   ],
   "source": [
    "opportunities = []\n",
    "\n",
    "for i, symbol in enumerate(symbols):\n",
    "    for j1, exchange1 in enumerate(exchanges):\n",
    "        for j2, exchange2 in enumerate(exchanges):\n",
    "            \n",
    "            profit = 0\n",
    "            if j1 != j2 and ask[i, j1]>0:\n",
    "                profit = ((bid[i, j2]*(1-fee/100)) / (ask[i, j1]*(1+fee/100)) - 1) * 100\n",
    "                \n",
    "                if profit>0:\n",
    "                    opportunities.append([symbol, exchange1, ask[i, j1], exchange2, bid[i, j2], round(profit,2)])\n",
    "                \n",
    "print(\"Amount of profitable opportunities\", len(opportunities))"
   ]
  },
  {
   "cell_type": "markdown",
   "metadata": {},
   "source": [
    "We have found 108 opportunities! Promising, isn't it? Let's take a look at the best ones:"
   ]
  },
  {
   "cell_type": "code",
   "execution_count": 126,
   "metadata": {
    "scrolled": false
   },
   "outputs": [
    {
     "data": {
      "text/plain": [
       "[['QTUM/BTC', 'Bitfinex', 0.0017542, 'Qryptos', 0.00309319, 75.45],\n",
       " ['QTUM/BTC', 'Binance', 0.001756, 'Qryptos', 0.00309319, 75.27],\n",
       " ['QTUM/BTC', 'Huobipro', 0.001756, 'Qryptos', 0.00309319, 75.27],\n",
       " ['QTUM/BTC', 'Bittrex', 0.00176215, 'Qryptos', 0.00309319, 74.66],\n",
       " ['QTUM/BTC', 'Kucoin', 0.0017623, 'Qryptos', 0.00309319, 74.64],\n",
       " ['QTUM/BTC', 'Hitbtc', 0.00176638, 'Qryptos', 0.00309319, 74.24],\n",
       " ['QTUM/BTC', 'Livecoin', 0.00182869, 'Qryptos', 0.00309319, 68.3],\n",
       " ['BTG/BTC', 'Yobit', 0.00474999, 'Cex', 0.005787, 21.22],\n",
       " ['BTG/BTC', 'Yobit', 0.00474999, 'Binance', 0.005695, 19.3],\n",
       " ['BTG/BTC', 'Yobit', 0.00474999, 'Hitbtc', 0.005684, 19.07]]"
      ]
     },
     "execution_count": 126,
     "metadata": {},
     "output_type": "execute_result"
    }
   ],
   "source": [
    "opportunities = sorted(opportunities, reverse=True, key=lambda x: x[5])\n",
    "print(opportunities[:10])"
   ]
  },
  {
   "cell_type": "markdown",
   "metadata": {},
   "source": [
    "At the time of writing this article the best option is to buy *QTUM/BTC* at *Bitfinex* and sell it at *Qryptos*. For each *QTUM/BTC* traded, we could get a 75.45% profit."
   ]
  },
  {
   "cell_type": "markdown",
   "metadata": {},
   "source": [
    "## The naive approach..."
   ]
  },
  {
   "cell_type": "markdown",
   "metadata": {},
   "source": [
    "Now we have found some opportunities, we can start arbitraging. The first opportunities we found are all related to buy some *QTUM* in some exchanges and sell them in *Qryptos*. The return of that arbitrage is something like a 75%. \n",
    "\n",
    "75%!! I'm going to be trading all day. I'm going to became rich. So easy, today. Just for curiosity, let's search \"Qryptos+qtum+deposit\" on google to see if everything is going to be so easy when we will try to deposit my *QTUM* coins there. And I find this:\n",
    "\n",
    "![fig](figs/qtum_deposit.png)\n",
    "\n",
    "It seems like not everything is going so well. Let's look at the [third](https://qryptos.zendesk.com/hc/en-us/articles/360004206251-I-can-t-deposit-QTUM-to-my-QRYPTOS-account) link: FAQ *Qryptos* explainin why out wallet is not going to be compatible with our *QTUM* tokens bought out there.\n",
    "\n",
    "So don't waste your time there, we have 101 more possibilities. Let's take the next one. We need to buy some *BTG* coins at *Yobit* and sell them on *Cex*. Wait a moment... The following opportunities also imply to sell the *BTG* coins bought at *Yobit*. Let me suspect that time.\n",
    "\n",
    "I open my *Yobit* account and I try to withdrawl some *BTG* to see if everything works fine. When I click on the *deposit* button, I find this notification:\n",
    "\n",
    "![fig](figs/yobit_btg.png)\n",
    "\n",
    "Ok, we are not going anywhere around here. Let's look for another choices.\n",
    "\n",
    "In my list I have another interesing opportunity: buy some *BCH* coins on *Binance* and sell them on *Yobit*. This time with less profit. So this time, it could be real. First at all, we need some available *BTC* at one of the first exchanges: *Binance* in order to buy there. If we luckly have it, we are starting with the right food. Otherwise, start praying for your *BTC* arriving before the opportunity dissappear.\n",
    "\n",
    "Fortunately, I have some *BTC* at *Binance*. So, I buy 1 *BCH* there and then I open my *Yobiy* account to look \n",
    "for my for my *BCH* address in order to send it my new coins. When I click on the *deposit* button, I find this notification:\n",
    "\n",
    "![fig](figs/bcc_yobit_w.png)\n",
    "\n",
    "Guess what? Wallet is on maintenance. You can aware this by trying to withdrawl some coins, which gives you this notification:\n",
    "\n",
    "![fig](figs/bcc_yobit_1.png)\n",
    "\n",
    "So, I wait for 5 minutes, and I try again:\n",
    "\n",
    "![fig](figs/bcc_yobit_2.png)\n",
    "\n",
    "And nothing happends. Nothing in 5 minutes, 10 minutes or 30 minutes. Even if I had had a previous *BCH* address, deposits would have a very important temporary delay (beleave me, this is not my first time doing this). So, I have not another choice than keep my *BCH*. Anyway, *buy and hold* has been always a good trading strategy in crypto markets, at least until the last quarter of 2017.\n",
    "\n",
    "So, let's try with another option. The last one, *BTG* from *Huobi* to *Cex*. What happends when I try to withdrawl *BTG* from *Huobi*? Another wallet on maintenance.\n",
    "\n",
    "![fig](figs/btg_huobi.png)"
   ]
  },
  {
   "cell_type": "markdown",
   "metadata": {},
   "source": [
    "## ...and the reallity show"
   ]
  },
  {
   "cell_type": "markdown",
   "metadata": {},
   "source": [
    "I was trying to find a profitable arbitrage approach for months. And I'm not going to lie, I've never found it. There were some opportunities, but I could never got a consistent way to find them. I mean, just with a monitor, and not checking each wallet on each exchange by my own. Despite the fact that a lot of opportunities are filtered just at the beginning because the profits dissappears computing exchange fees and transference commissions, we have to deal with wallet maintenances.\n",
    "\n",
    "And you are lucky if your exchange warns you about that maintenances. Some exchanges don't do it. For example, once I tried an arbitrage between some exchange and *Exmo*. I was waiting for 2 hours my *BTC* deposit on *Exmo*, and then I wrote them. Three hours later, they answered me:\n",
    "\n",
    "![fig](figs/exmo_btc.png)\n",
    "\n",
    "Finally, my *BTC* took 2 more days to be deposited. So, you never know if everything is going to be as planned when your transfer crypto assets.\n",
    "\n",
    "And even when you find an arbitrage opportunity between echanges where everything works find, you have to deal with the transference time. Most exchanges don't allow you to trade cryptos until a good amount of confirmations. This time is almost always greater than tens of minutes. And if you are waiting that prices remain stable in that time, probably you have never been trading cryptos. When the arbitrage profit is something like a 2% (yes, don't expect to find a better opportunity without a maintanance wallet), and after exchange fees and transference commissions something like 1.5%, or even lower, expecting that prices don't move that amount in 20 minutes is out of one's mind. And crazy, if you know that there will be traders aware about that difference, starting algorithms that probably are going to take advantage of the situation faster, turning you away with empty hands."
   ]
  },
  {
   "cell_type": "markdown",
   "metadata": {},
   "source": [
    "## Some final recommnedations:\n",
    "\n",
    "When you are analyzing arbitrage opportunities, always be aware of:\n",
    "\n",
    "* Correct profit calculations considering:\n",
    "    * maker/taker fees at the purchase exchange\n",
    "    * transaction commissions\n",
    "    * maket/taker fees\n",
    "* Maintenance of wallets\n",
    "* Time of transactions and estimated changing value in prices during this time\n",
    "* Some exchanges don't allow you to withdrawl your funds unless you have done the full verification\n",
    "* Do some research on google about that arbitrage, to see if there is something you are missing\n",
    "* Always suspect if you find an arbitrage opportunity involving fiat to crypto pairs, like *BTC/USD* or *ETH/USD*. For exampe, *BTC/USD* today is being traded at \\$7549 at *Bitfinex* and at $7721 at *Bithumb*. That sounds like another good opportunity, isn't it? I have bad news for you, once you transfer your *BTC* coins to *Bithumb*, you can only exchange them there with *KWC* (at an equivalent price of \\$7721 *USD*). Only if you have a validated account, and if you have a bank account at South Korea you are going to be able to withdrawl your fiat money. And then think about and strategy to transfer your money from South Korea to your country.\n",
    "\n",
    "Always, always suspect before giving away your money.\n",
    "And, before I leave, I'm going to try once again to deposit my *BCH* coins on *Yobit*:\n",
    "\n",
    "![fig](figs/bcc_yobit_8.png)\n",
    "\n",
    "mmm not, not my day. \n",
    "\n",
    "In our next article, we are going to analyze a better way to approach arbitrage opportunities. I mean, this time for real."
   ]
  },
  {
   "cell_type": "code",
   "execution_count": null,
   "metadata": {},
   "outputs": [],
   "source": []
  }
 ],
 "metadata": {
  "kernelspec": {
   "display_name": "Python 3",
   "language": "python",
   "name": "python3"
  },
  "language_info": {
   "codemirror_mode": {
    "name": "ipython",
    "version": 3
   },
   "file_extension": ".py",
   "mimetype": "text/x-python",
   "name": "python",
   "nbconvert_exporter": "python",
   "pygments_lexer": "ipython3",
   "version": "3.5.2"
  }
 },
 "nbformat": 4,
 "nbformat_minor": 2
}
